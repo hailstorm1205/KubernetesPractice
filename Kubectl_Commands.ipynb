{
 "cells": [
  {
   "cell_type": "markdown",
   "metadata": {},
   "source": [
    "# Kubectl Commands\n",
    "\n",
    "* add commands\n",
    "    * kubectl apply -f &lt; file name &gt;\n",
    "        * -f stands for file\n",
    "* \"get\" commands\n",
    "    * kubectl get all\n",
    "    * kubectl get all | grep &lt; label name &gt;\n",
    "        * see all components for one application\n",
    "    * kubectl get _component_\n",
    "    * kubectl get _component_ -o wide\n",
    "        * get even more information about the component\n",
    "* \"describe\" commands\n",
    "    * kubectl describe _component_\n",
    "    * kubectl describe _component_ &lt; name &gt;\n",
    "* \"delete\" commands\n",
    "    * kubectl delete _component_ &lt; name &gt;\n",
    "* other commands\n",
    "    * kubectl version"
   ]
  },
  {
   "cell_type": "markdown",
   "metadata": {},
   "source": [
    "## List of Components\n",
    "\n",
    "* Pods\n",
    "* Deployments\n",
    "* Services\n",
    "* Secret\n",
    "* Ingress\n",
    "* ConfigMap\n",
    "* Volumes\n",
    "* StatefulSet\n",
    "\n",
    "ReplicaSet??"
   ]
  }
 ],
 "metadata": {
  "language_info": {
   "name": "python"
  },
  "orig_nbformat": 4
 },
 "nbformat": 4,
 "nbformat_minor": 2
}
